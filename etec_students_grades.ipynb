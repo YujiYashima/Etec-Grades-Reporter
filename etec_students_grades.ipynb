{
  "nbformat": 4,
  "nbformat_minor": 0,
  "metadata": {
    "colab": {
      "name": "etec-students-grades.ipynb",
      "provenance": [],
      "authorship_tag": "ABX9TyNK1jj8ArjZDMVG/IxVbKnt",
      "include_colab_link": true
    },
    "kernelspec": {
      "name": "python3",
      "display_name": "Python 3"
    },
    "language_info": {
      "name": "python"
    }
  },
  "cells": [
    {
      "cell_type": "markdown",
      "metadata": {
        "id": "view-in-github",
        "colab_type": "text"
      },
      "source": [
        "<a href=\"https://colab.research.google.com/github/YujiYashima/etec-grades-reporter/blob/main/etec_students_grades.ipynb\" target=\"_parent\"><img src=\"https://colab.research.google.com/assets/colab-badge.svg\" alt=\"Open In Colab\"/></a>"
      ]
    },
    {
      "cell_type": "markdown",
      "source": [
        "# Etec Students Grades \n",
        "\n",
        "We will build an application that automates the capture of student grades, attendance data and other information in the NSA system of Centro Paula Souza (CPS). Fill in the variables with your information to be able to perform the automatic login.\n",
        "\n",
        "\n",
        "#### *TOOLS*:\n",
        "\n",
        "- Selenium: [https://www.selenium.dev/](https://www.selenium.dev/)\n",
        "- ChromeDriver: [https://chromedriver.chromium.org/downloads](https://chromedriver.chromium.org/downloads)\n",
        "- Time: [https://docs.python.org/3/library/time.html](https://docs.python.org/3/library/time.html)\n",
        "- Pandas: [https://pandas.pydata.org/docs/](https://pandas.pydata.org/docs/)\n",
        "- BeautifulSoup: [https://beautiful-soup-4.readthedocs.io/en/latest/](https://beautiful-soup-4.readthedocs.io/en/latest/)\n",
        "- NSA System: [https://nsa.cps.sp.gov.br/](https://nsa.cps.sp.gov.br/)\n",
        "\n",
        "\n",
        "#### *VARIABLES:*\n",
        "\n",
        "- RM: _Your RM Code_\n",
        "- CPS_CODE: _Your CPS School Code_\n",
        "- PASSWORD: _Your Password_"
      ],
      "metadata": {
        "id": "KhP-JPZ10QP8"
      }
    },
    {
      "cell_type": "markdown",
      "source": [
        "### Lib Installation\n",
        "\n"
      ],
      "metadata": {
        "id": "Lw6aejuq6MME"
      }
    },
    {
      "cell_type": "code",
      "source": [
        "!pip install selenium\n",
        "!apt-get update\n",
        "!apt install chromium-chromedriver\n",
        "!pip install beautifulsoup4"
      ],
      "metadata": {
        "id": "PbG9uiJ054Bx"
      },
      "execution_count": null,
      "outputs": []
    },
    {
      "cell_type": "markdown",
      "source": [
        "### Your Variables"
      ],
      "metadata": {
        "id": "pMEYCvUY4qix"
      }
    },
    {
      "cell_type": "code",
      "source": [
        "# ------------------------------------------------ #\n",
        "RM = \"YOUR RM\"\n",
        "CPS_CODE = \"YOUR SCHOOL CODE\"\n",
        "PASSWORD = \"YOUR PASSWORD\"\n",
        "# ------------------------------------------------ #"
      ],
      "metadata": {
        "id": "cuDPtkL04xm8"
      },
      "execution_count": null,
      "outputs": []
    },
    {
      "cell_type": "markdown",
      "source": [
        "### The Automation"
      ],
      "metadata": {
        "id": "HRK0ylpJ6axK"
      }
    },
    {
      "cell_type": "code",
      "execution_count": null,
      "metadata": {
        "id": "fR1B0ZgH5kCK"
      },
      "outputs": [],
      "source": [
        "import time\n",
        "import pandas as pd\n",
        "from bs4 import BeautifulSoup\n",
        "from selenium import webdriver\n",
        "from selenium.webdriver.common.by import By\n",
        "from selenium.webdriver.common.keys import Keys\n",
        "\n",
        "chrome_options = webdriver.ChromeOptions()\n",
        "chrome_options.add_argument(\"--no-sandbox\") \n",
        "chrome_options.add_argument(\"--headless\")\n",
        "chrome_options.add_argument(\"--disable-dev-shm-usage\")\n",
        "navegador = webdriver.Chrome(chrome_options= chrome_options)\n",
        "\n",
        "navegador.get(\"https://nsa.cps.sp.gov.br/\")\n",
        "navegador.find_element(By.XPATH, '//*[@id=\"txtCod\"]').send_keys(CPS_CODE)\n",
        "navegador.find_element(By.XPATH, '//*[@id=\"txtlogin\"]').send_keys(RM)\n",
        "navegador.find_element(By.XPATH, '//*[@id=\"txtSenha\"]').send_keys(PASSWORD)\n",
        "navegador.find_element(By.XPATH, '//*[@id=\"ctrlGoogleReCaptcha\"]/div/div/div/iframe').click()\n",
        "time.sleep(5)\n",
        "navegador.find_element(By.XPATH, '//*[@id=\"btnEntrar\"]').click()\n",
        "time.sleep(2)\n",
        "\n",
        "navegador.get(\"https://nsa.cps.sp.gov.br/alunos/frmmencoes.aspx\")\n",
        "element = navegador.find_element(By.XPATH, '//*[@id=\"ctl00_ContentPlaceHolder1_gvNotas\"]')\n",
        "html_content = element.get_attribute('outerHTML')\n",
        "soup = BeautifulSoup(html_content, 'html.parser')\n",
        "table = soup.find(name='table')\n",
        "data = pd.read_html(str(table))[0]\n",
        "\n",
        "data.to_excel(\"SchoolReport.xlsx\", index=False)"
      ]
    }
  ]
}