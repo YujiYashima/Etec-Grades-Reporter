{
  "nbformat": 4,
  "nbformat_minor": 0,
  "metadata": {
    "colab": {
      "name": "step-by-step.ipynb",
      "provenance": [],
      "collapsed_sections": [],
      "authorship_tag": "ABX9TyPD9D0UcYih+UaK+Da30yyz",
      "include_colab_link": true
    },
    "kernelspec": {
      "name": "python3",
      "display_name": "Python 3"
    },
    "language_info": {
      "name": "python"
    }
  },
  "cells": [
    {
      "cell_type": "markdown",
      "metadata": {
        "id": "view-in-github",
        "colab_type": "text"
      },
      "source": [
        "<a href=\"https://colab.research.google.com/github/YujiYashima/etec-grades-reporter/blob/main/step_by_step.ipynb\" target=\"_parent\"><img src=\"https://colab.research.google.com/assets/colab-badge.svg\" alt=\"Open In Colab\"/></a>"
      ]
    },
    {
      "cell_type": "markdown",
      "source": [
        "# Etec Students Grades \n",
        "\n",
        "We will build an application that automates the capture of student grades, attendance data and other information in the NSA system of Centro Paula Souza (CPS). Fill in the variables with your information to be able to perform the automatic login.\n",
        "\n",
        "\n",
        "#### *TOOLS*:\n",
        "\n",
        "- Selenium: [https://www.selenium.dev/](https://www.selenium.dev/)\n",
        "- ChromeDriver: [https://chromedriver.chromium.org/downloads](https://chromedriver.chromium.org/downloads)\n",
        "- Time: [https://docs.python.org/3/library/time.html](https://docs.python.org/3/library/time.html)\n",
        "- Pandas: [https://pandas.pydata.org/docs/](https://pandas.pydata.org/docs/)\n",
        "- BeautifulSoup: [https://beautiful-soup-4.readthedocs.io/en/latest/](https://beautiful-soup-4.readthedocs.io/en/latest/)\n",
        "- NSA System: [https://nsa.cps.sp.gov.br/](https://nsa.cps.sp.gov.br/)\n",
        "\n",
        "\n",
        "#### *VARIABLES:*\n",
        "\n",
        "- RM: _Your RM Code_\n",
        "- CPS_CODE: _Your CPS School Code_\n",
        "- PASSWORD: _Your Password_\n"
      ],
      "metadata": {
        "id": "5H2s5Wfp9QDp"
      }
    },
    {
      "cell_type": "markdown",
      "source": [
        "### Lib Installation"
      ],
      "metadata": {
        "id": "vDylqnJa6GJr"
      }
    },
    {
      "cell_type": "code",
      "execution_count": null,
      "metadata": {
        "id": "Uwq06BRm1WmX"
      },
      "outputs": [],
      "source": [
        "!pip install selenium\n",
        "!apt-get update\n",
        "!apt install chromium-chromedriver\n",
        "!pip install beautifulsoup4"
      ]
    },
    {
      "cell_type": "markdown",
      "source": [
        "### Lib Imports\n"
      ],
      "metadata": {
        "id": "RaQxv5hg1qal"
      }
    },
    {
      "cell_type": "code",
      "source": [
        "import time\n",
        "import pandas as pd\n",
        "from bs4 import BeautifulSoup\n",
        "from selenium import webdriver\n",
        "from selenium.webdriver.common.by import By\n",
        "from selenium.webdriver.common.keys import Keys"
      ],
      "metadata": {
        "id": "mRWkPfEt1qHb"
      },
      "execution_count": null,
      "outputs": []
    },
    {
      "cell_type": "markdown",
      "source": [
        "### Browser Window Configuration"
      ],
      "metadata": {
        "id": "SGsZMfc412Bi"
      }
    },
    {
      "cell_type": "code",
      "source": [
        "chrome_options = webdriver.ChromeOptions()\n",
        "chrome_options.add_argument(\"--no-sandbox\") \n",
        "chrome_options.add_argument(\"--headless\")\n",
        "chrome_options.add_argument(\"--disable-dev-shm-usage\")\n",
        "navegador = webdriver.Chrome(chrome_options= chrome_options)"
      ],
      "metadata": {
        "id": "mZkexcq411V0"
      },
      "execution_count": null,
      "outputs": []
    },
    {
      "cell_type": "markdown",
      "source": [
        "### Definition os Information Variables\n"
      ],
      "metadata": {
        "id": "Z2sgb01J9Yjt"
      }
    },
    {
      "cell_type": "code",
      "source": [
        "# ------------------------------------------------ #\n",
        "RM = \"YOUR RM\"\n",
        "CPS_CODE = \"YOUR SCHOOL CODE\"\n",
        "PASSWORD = \"YOUR PASSWORD\"\n",
        "# ------------------------------------------------ #"
      ],
      "metadata": {
        "id": "x7q_aGF59iFy"
      },
      "execution_count": null,
      "outputs": []
    },
    {
      "cell_type": "markdown",
      "source": [
        "### Login to NSA using User information _(EtecCode, RM, Password)_"
      ],
      "metadata": {
        "id": "z2IecUAZ1-sA"
      }
    },
    {
      "cell_type": "code",
      "source": [
        "navegador.get(\"https://nsa.cps.sp.gov.br/\")\n",
        "navegador.find_element(By.XPATH, '//*[@id=\"txtCod\"]').send_keys(CPS_CODE)\n",
        "navegador.find_element(By.XPATH, '//*[@id=\"txtlogin\"]').send_keys(RM)\n",
        "navegador.find_element(By.XPATH, '//*[@id=\"txtSenha\"]').send_keys(PASSWORD)\n",
        "\n",
        "navegador.find_element(By.XPATH, '//*[@id=\"ctrlGoogleReCaptcha\"]/div/div/div/iframe').click()\n",
        "time.sleep(5)\n",
        "\n",
        "navegador.find_element(By.XPATH, '//*[@id=\"btnEntrar\"]').click()\n",
        "time.sleep(2)"
      ],
      "metadata": {
        "id": "WVUGtzbM1-Ll"
      },
      "execution_count": null,
      "outputs": []
    },
    {
      "cell_type": "markdown",
      "source": [
        "### Get Information from the School Report"
      ],
      "metadata": {
        "id": "bz0WTdteEiWh"
      }
    },
    {
      "cell_type": "code",
      "source": [
        "navegador.get(\"https://nsa.cps.sp.gov.br/alunos/frmmencoes.aspx\")\n",
        "\n",
        "element = navegador.find_element(By.XPATH, '//*[@id=\"ctl00_ContentPlaceHolder1_gvNotas\"]')\n",
        "html_content = element.get_attribute('outerHTML')\n",
        "\n",
        "soup = BeautifulSoup(html_content, 'html.parser')\n",
        "table = soup.find(name='table')"
      ],
      "metadata": {
        "id": "oZOGADViELio"
      },
      "execution_count": null,
      "outputs": []
    },
    {
      "cell_type": "markdown",
      "source": [
        "### Transforming HTML to Data Frame with Pandas"
      ],
      "metadata": {
        "id": "f_njEfPBbbIj"
      }
    },
    {
      "cell_type": "code",
      "source": [
        "data = pd.read_html(str(table))[0]\n",
        "\n",
        "data"
      ],
      "metadata": {
        "id": "qxuQz_6Ybawf"
      },
      "execution_count": null,
      "outputs": []
    },
    {
      "cell_type": "markdown",
      "source": [
        "### Convert the data to an Excel file"
      ],
      "metadata": {
        "id": "DNPDAun9eZCp"
      }
    },
    {
      "cell_type": "code",
      "source": [
        "data.to_excel(\"GradesReport.xlsx\", index=False)"
      ],
      "metadata": {
        "id": "5zX1EWYheYhw"
      },
      "execution_count": null,
      "outputs": []
    }
  ]
}